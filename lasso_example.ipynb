{
 "cells": [
  {
   "cell_type": "code",
   "execution_count": 3,
   "metadata": {},
   "outputs": [
    {
     "name": "stdout",
     "output_type": "stream",
     "text": [
      "The autoreload extension is already loaded. To reload it, use:\n",
      "  %reload_ext autoreload\n"
     ]
    }
   ],
   "source": [
    "%load_ext autoreload\n",
    "%autoreload 2\n",
    "\n",
    "import napari\n",
    "import numpy as np\n",
    "from matplotlib import pyplot as plt\n"
   ]
  },
  {
   "cell_type": "code",
   "execution_count": 4,
   "metadata": {},
   "outputs": [],
   "source": [
    "tomo_shape = (400, 400, 200)\n",
    "# tomo_shape = (800, 800, 500)\n",
    "# tomo_shape = (1000, 1000, 500)\n",
    "\n",
    "# create a random 3D image\n",
    "data = np.random.random(tomo_shape)\n",
    "\n",
    "# create a viewer and add the image\n",
    "viewer = napari.view_image(data, name='random data')\n",
    "\n",
    "# show the viewer\n",
    "napari.run()"
   ]
  },
  {
   "cell_type": "code",
   "execution_count": 7,
   "metadata": {},
   "outputs": [
    {
     "name": "stdout",
     "output_type": "stream",
     "text": [
      "Elapsed time: 14.25 s\n",
      "Elapsed time: 4.04 s\n",
      "Elapsed time: 9.63 s\n",
      "Elapsed time: 1.50 s\n"
     ]
    },
    {
     "data": {
      "text/plain": [
       "<Image layer 'mask_ext [1]' at 0x15115a350>"
      ]
     },
     "execution_count": 7,
     "metadata": {},
     "output_type": "execute_result"
    }
   ],
   "source": [
    "from lasso_3d.lasso_utils import generate_example_polygon, generate_random_polygon\n",
    "from lasso_3d.lasso_rotate_vol import extend_polygon_to_3D_mask_voxels\n",
    "from lasso_3d.lasso_voxelize_mesh import create_volume_from_polygon_mesh\n",
    "from lasso_3d.lasso_project_to_hyperplane import mask_via_projection\n",
    "from lasso_3d.lasso_add_slices import mask_via_extension\n",
    "from time import time\n",
    "np.random.seed(16)\n",
    "polygon_3d = generate_example_polygon(random_rotation=True) * 2\n",
    "# polygon_3d = generate_random_polygon(n_vertices=4, tomo_shape=tomo_shape)\n",
    "\n",
    "# add the polygon layer\n",
    "viewer.add_shapes(polygon_3d, shape_type='polygon', edge_color='coral', face_color='royalblue', opacity=0.5)\n",
    "\n",
    "time_start = time()\n",
    "mask_voxel = extend_polygon_to_3D_mask_voxels(polygon_3d.copy(), tomo_shape)\n",
    "print(f'Elapsed time: {time() - time_start:.2f} s')\n",
    "time_start = time()\n",
    "mask_mesh = create_volume_from_polygon_mesh(polygon_3d.copy(), tomo_shape)\n",
    "print(f'Elapsed time: {time() - time_start:.2f} s')\n",
    "time_start = time()\n",
    "mask_proj = mask_via_projection(polygon_3d.copy(), tomo_shape)\n",
    "print(f'Elapsed time: {time() - time_start:.2f} s')\n",
    "time_start = time()\n",
    "mask_ext = mask_via_extension(polygon_3d.copy(), tomo_shape)\n",
    "print(f'Elapsed time: {time() - time_start:.2f} s')\n",
    "\n",
    "viewer.add_image(mask_mesh, name='mask_mesh', opacity=0.5)\n",
    "viewer.add_image(mask_voxel, name='mask_voxel', opacity=0.5, colormap='red')\n",
    "viewer.add_image(mask_proj, name='mask_proj', opacity=0.5, colormap='green')\n",
    "viewer.add_image(mask_ext, name='mask_ext', opacity=0.5, colormap='blue')\n"
   ]
  },
  {
   "cell_type": "code",
   "execution_count": null,
   "metadata": {},
   "outputs": [],
   "source": []
  }
 ],
 "metadata": {
  "kernelspec": {
   "display_name": "venv_lasso",
   "language": "python",
   "name": "python3"
  },
  "language_info": {
   "codemirror_mode": {
    "name": "ipython",
    "version": 3
   },
   "file_extension": ".py",
   "mimetype": "text/x-python",
   "name": "python",
   "nbconvert_exporter": "python",
   "pygments_lexer": "ipython3",
   "version": "3.11.0"
  }
 },
 "nbformat": 4,
 "nbformat_minor": 2
}
